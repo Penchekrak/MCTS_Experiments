{
 "cells": [
  {
   "cell_type": "code",
   "execution_count": 26,
   "metadata": {
    "collapsed": true
   },
   "outputs": [],
   "source": [
    "import gym\n",
    "import gym_minigrid\n",
    "import mctx\n",
    "import jax\n",
    "import flax\n",
    "import rlax"
   ]
  },
  {
   "cell_type": "code",
   "execution_count": 72,
   "outputs": [],
   "source": [
    "from gym_minigrid.wrappers import *\n",
    "env = gym.make('MiniGrid-Empty-8x8-v0')\n",
    "full_env = FullyObsWrapper(env)\n",
    "full_env.reset();"
   ],
   "metadata": {
    "collapsed": false,
    "pycharm": {
     "name": "#%%\n"
    }
   }
  },
  {
   "cell_type": "code",
   "execution_count": 84,
   "outputs": [
    {
     "data": {
      "text/plain": "Discrete(7)"
     },
     "execution_count": 84,
     "metadata": {},
     "output_type": "execute_result"
    }
   ],
   "source": [
    "env.action_space"
   ],
   "metadata": {
    "collapsed": false,
    "pycharm": {
     "name": "#%%\n"
    }
   }
  },
  {
   "cell_type": "code",
   "execution_count": 87,
   "outputs": [
    {
     "data": {
      "text/plain": "<matplotlib.image.AxesImage at 0x7f2a9dfb7b50>"
     },
     "execution_count": 87,
     "metadata": {},
     "output_type": "execute_result"
    },
    {
     "data": {
      "text/plain": "<Figure size 432x288 with 1 Axes>",
      "image/png": "[encoded data removed]"
     },
     "metadata": {
      "needs_background": "light"
     },
     "output_type": "display_data"
    }
   ],
   "source": [
    "import matplotlib.pyplot as plt\n",
    "plt.imshow(full_env.render(mode='inhuman'))"
   ],
   "metadata": {
    "collapsed": false,
    "pycharm": {
     "name": "#%%\n"
    }
   }
  },
  {
   "cell_type": "code",
   "execution_count": 86,
   "outputs": [],
   "source": [
    "observation, reward, done, info = full_env.step(6)"
   ],
   "metadata": {
    "collapsed": false,
    "pycharm": {
     "name": "#%%\n"
    }
   }
  },
  {
   "cell_type": "code",
   "execution_count": 74,
   "outputs": [],
   "source": [
    "def get_next_embedding(obs, action):\n",
    "    tmp_env = FullyObsWrapper(gym.make('MiniGrid-Empty-8x8-v0'))\n",
    "    index = np.where(obs[:, :, 0] == 10)\n",
    "    tmp_env.agent_pos = index[0][0], index[1][0]\n",
    "    tmp_env.agent_dir = obs[tmp_env.agent_pos[0], tmp_env.agent_pos[1], 2]\n",
    "    obs_ = np.copy(obs)\n",
    "    obs_[tmp_env.agent_pos[0], tmp_env.agent_pos[1], :] = 0\n",
    "    tmp_env.grid = tmp_env.grid.decode(obs_)\n",
    "    observation, reward, done, info = tmp_env.step(action)\n",
    "    return observation, reward"
   ],
   "metadata": {
    "collapsed": false,
    "pycharm": {
     "name": "#%%\n"
    }
   }
  },
  {
   "cell_type": "code",
   "execution_count": 83,
   "outputs": [],
   "source": [
    "def recurrent_fn(params, rng_key, action, embedding):\n",
    "    next_embedding, reward = get_next_embedding(embedding, action)\n",
    "    recurrent_fn_output = mctx.RecurrentFnOutput(\n",
    "        reward=reward,\n",
    "        discount=0.99,\n",
    "        prior_logits=params['prior_logits'](embedding),\n",
    "        value=params['value_network'](embedding))\n",
    "    return recurrent_fn_output, next_embedding"
   ],
   "metadata": {
    "collapsed": false,
    "pycharm": {
     "name": "#%%\n"
    }
   }
  },
  {
   "cell_type": "code",
   "execution_count": 99,
   "outputs": [],
   "source": [
    "import flax.linen as nn\n",
    "\n",
    "class CNN(nn.Module):\n",
    "    output_features: int\n",
    "\n",
    "    @nn.compact\n",
    "    def __call__(self, x):\n",
    "        x = nn.Conv(features=32, kernel_size=(3, 3))(x)\n",
    "        x = nn.relu(x)\n",
    "        x = nn.avg_pool(x, window_shape=(2, 2), strides=(2, 2))\n",
    "        x = nn.Conv(features=64, kernel_size=(3, 3))(x)\n",
    "        x = nn.relu(x)\n",
    "        x = nn.avg_pool(x, window_shape=(2, 2), strides=(2, 2))\n",
    "        x = x.reshape((x.shape[0], -1))  # flatten\n",
    "        x = nn.Dense(features=256)(x)\n",
    "        x = nn.relu(x)\n",
    "        x = nn.Dense(features=self.output_features)(x)\n",
    "        return x\n",
    "\n",
    "policy_network = CNN(output_features=7)\n",
    "variables = policy_network.init(jax.random.PRNGKey(0), observation['image'][None, ...])\n",
    "value_network = CNN(output_features=1)\n"
   ],
   "metadata": {
    "collapsed": false,
    "pycharm": {
     "name": "#%%\n"
    }
   }
  },
  {
   "cell_type": "code",
   "execution_count": 96,
   "outputs": [
    {
     "data": {
      "text/plain": "frozen_dict_keys(['params'])"
     },
     "execution_count": 96,
     "metadata": {},
     "output_type": "execute_result"
    }
   ],
   "source": [
    "variables.keys()"
   ],
   "metadata": {
    "collapsed": false,
    "pycharm": {
     "name": "#%%\n"
    }
   }
  },
  {
   "cell_type": "code",
   "execution_count": 98,
   "outputs": [
    {
     "data": {
      "text/plain": "(8, 8, 3)"
     },
     "execution_count": 98,
     "metadata": {},
     "output_type": "execute_result"
    }
   ],
   "source": [
    "observation['image'].shape"
   ],
   "metadata": {
    "collapsed": false,
    "pycharm": {
     "name": "#%%\n"
    }
   }
  },
  {
   "cell_type": "code",
   "execution_count": 100,
   "outputs": [
    {
     "data": {
      "text/plain": "(1, 7)"
     },
     "execution_count": 100,
     "metadata": {},
     "output_type": "execute_result"
    }
   ],
   "source": [
    "policy_network.apply(variables, observation['image'][None, ...]).shape"
   ],
   "metadata": {
    "collapsed": false,
    "pycharm": {
     "name": "#%%\n"
    }
   }
  },
  {
   "cell_type": "code",
   "execution_count": 70,
   "outputs": [
    {
     "data": {
      "text/plain": "({'mission': 'get to the green goal square',\n  'image': array([[[ 2,  5,  0],\n          [ 2,  5,  0],\n          [ 2,  5,  0],\n          [ 2,  5,  0],\n          [ 2,  5,  0],\n          [ 2,  5,  0],\n          [ 2,  5,  0],\n          [ 2,  5,  0]],\n  \n         [[ 2,  5,  0],\n          [10,  0,  0],\n          [ 1,  0,  0],\n          [ 1,  0,  0],\n          [ 1,  0,  0],\n          [ 1,  0,  0],\n          [ 1,  0,  0],\n          [ 2,  5,  0]],\n  \n         [[ 2,  5,  0],\n          [ 1,  0,  0],\n          [ 1,  0,  0],\n          [ 1,  0,  0],\n          [ 1,  0,  0],\n          [ 1,  0,  0],\n          [ 1,  0,  0],\n          [ 2,  5,  0]],\n  \n         [[ 2,  5,  0],\n          [ 1,  0,  0],\n          [ 1,  0,  0],\n          [ 1,  0,  0],\n          [ 1,  0,  0],\n          [ 1,  0,  0],\n          [ 1,  0,  0],\n          [ 2,  5,  0]],\n  \n         [[ 2,  5,  0],\n          [ 1,  0,  0],\n          [ 1,  0,  0],\n          [ 1,  0,  0],\n          [ 1,  0,  0],\n          [ 1,  0,  0],\n          [ 1,  0,  0],\n          [ 2,  5,  0]],\n  \n         [[ 2,  5,  0],\n          [ 1,  0,  0],\n          [ 1,  0,  0],\n          [ 1,  0,  0],\n          [ 1,  0,  0],\n          [ 1,  0,  0],\n          [ 1,  0,  0],\n          [ 2,  5,  0]],\n  \n         [[ 2,  5,  0],\n          [ 1,  0,  0],\n          [ 1,  0,  0],\n          [ 1,  0,  0],\n          [ 1,  0,  0],\n          [ 1,  0,  0],\n          [ 8,  1,  0],\n          [ 2,  5,  0]],\n  \n         [[ 2,  5,  0],\n          [ 2,  5,  0],\n          [ 2,  5,  0],\n          [ 2,  5,  0],\n          [ 2,  5,  0],\n          [ 2,  5,  0],\n          [ 2,  5,  0],\n          [ 2,  5,  0]]], dtype=uint8)},\n 0)"
     },
     "execution_count": 70,
     "metadata": {},
     "output_type": "execute_result"
    }
   ],
   "source": [
    "get_next_embedding(observation['image'], 6)"
   ],
   "metadata": {
    "collapsed": false,
    "pycharm": {
     "name": "#%%\n"
    }
   }
  },
  {
   "cell_type": "code",
   "execution_count": null,
   "outputs": [],
   "source": [],
   "metadata": {
    "collapsed": false,
    "pycharm": {
     "name": "#%%\n"
    }
   }
  }
 ],
 "metadata": {
  "kernelspec": {
   "display_name": "Python 3",
   "language": "python",
   "name": "python3"
  },
  "language_info": {
   "codemirror_mode": {
    "name": "ipython",
    "version": 2
   },
   "file_extension": ".py",
   "mimetype": "text/x-python",
   "name": "python",
   "nbconvert_exporter": "python",
   "pygments_lexer": "ipython2",
   "version": "2.7.6"
  }
 },
 "nbformat": 4,
 "nbformat_minor": 0
}